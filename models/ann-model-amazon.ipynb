{
 "cells": [
  {
   "cell_type": "code",
   "execution_count": 1,
   "metadata": {},
   "outputs": [],
   "source": [
    "import sys\n",
    "import os\n",
    "import pickle\n",
    "\n",
    "import numpy as np\n",
    "import torch\n",
    "import torch.nn as nn\n",
    "import torch.optim as optim\n",
    "import torch.nn.functional as F\n",
    "from torch.utils.data import TensorDataset, DataLoader\n",
    "import numpy as np\n",
    "from matplotlib import pyplot as plt\n",
    "import pandas as pd\n",
    "from sklearn.model_selection import train_test_split\n",
    "from sklearn.feature_extraction.text import TfidfVectorizer\n",
    "from nltk.corpus import stopwords\n",
    "from nltk import word_tokenize\n",
    "import copy\n",
    "import seaborn as sn\n",
    "\n",
    "from sklearn.metrics import (\n",
    "    accuracy_score,\n",
    "    confusion_matrix,\n",
    "    precision_score,\n",
    "    recall_score,\n",
    "    classification_report,\n",
    ")\n",
    "\n",
    "\n",
    "# Local module imports\n",
    "sys.path.insert(0, \"..\") # adds parent folder to sys path\n",
    "\n",
    "from models.chatbot_model import ChatbotModel"
   ]
  },
  {
   "cell_type": "code",
   "execution_count": 2,
   "metadata": {},
   "outputs": [],
   "source": [
    "def preprocess_pandas(data, columns):\n",
    "    df_ = pd.DataFrame(columns=columns)\n",
    "    data[\"Sentence\"] = data[\"Sentence\"].str.lower()\n",
    "    data[\"Sentence\"] = data[\"Sentence\"].replace(\n",
    "        \"[a-zA-Z0-9-_.]+@[a-zA-Z0-9-_.]+\", \"\", regex=True\n",
    "    )  # remove emails\n",
    "    data[\"Sentence\"] = data[\"Sentence\"].replace(\n",
    "        \"((25[0-5]|2[0-4][0-9]|[01]?[0-9][0-9]?)(\\.|$)){4}\", \"\", regex=True\n",
    "    )  # remove IP address\n",
    "    data[\"Sentence\"] = data[\"Sentence\"].str.replace(\n",
    "        \"[^\\w\\s]\", \"\"\n",
    "    )  # remove special characters\n",
    "    data[\"Sentence\"] = data[\"Sentence\"].replace(\"\\d\", \"\", regex=True)  # remove numbers\n",
    "    for index, row in data.iterrows():\n",
    "        word_tokens = word_tokenize(row[\"Sentence\"])\n",
    "        filtered_sent = [w for w in word_tokens if not w in stopwords.words(\"english\")]\n",
    "        df_ = df_.append(\n",
    "            {\n",
    "                \"index\": row[\"index\"],\n",
    "                \"Class\": row[\"Class\"],\n",
    "                \"Sentence\": \" \".join(filtered_sent[0:]),\n",
    "            },\n",
    "            ignore_index=True,\n",
    "        )\n",
    "    return data"
   ]
  },
  {
   "cell_type": "code",
   "execution_count": 3,
   "metadata": {},
   "outputs": [
    {
     "name": "stdout",
     "output_type": "stream",
     "text": [
      "                                              Sentence  Class  index\n",
      "0    So there is no way for me to plug it in here i...      0      0\n",
      "1                          Good case, Excellent value.      1      1\n",
      "2                               Great for the jawbone.      1      2\n",
      "3    Tied to charger for conversations lasting more...      0      3\n",
      "4                                    The mic is great.      1      4\n",
      "..                                                 ...    ...    ...\n",
      "995  The screen does get smudged easily because it ...      0    995\n",
      "996  What a piece of junk.. I lose more calls on th...      0    996\n",
      "997                       Item Does Not Match Picture.      0    997\n",
      "998  The only thing that disappoint me is the infra...      0    998\n",
      "999  You can not answer calls with the unit, never ...      0    999\n",
      "\n",
      "[1000 rows x 3 columns]\n",
      "vocab_size = 6764\n"
     ]
    }
   ],
   "source": [
    "DATASET_PATH = \"../datasets/amazon_cells_labelled.txt\"\n",
    "\n",
    "# get data, pre-process and split\n",
    "data = pd.read_csv(DATASET_PATH, delimiter=\"\\t\", header=None)\n",
    "data.columns = [\"Sentence\", \"Class\"]\n",
    "data[\"index\"] = data.index  # add new column index\n",
    "columns = [\"index\", \"Class\", \"Sentence\"]\n",
    "print(data)\n",
    "data = preprocess_pandas(data, columns)  # pre-process\n",
    "(training_data, test_data, training_labels, test_labels) = train_test_split(  # split the data into training, validation, and test splits\n",
    "    data[\"Sentence\"].values.astype(\"U\"),\n",
    "    data[\"Class\"].values.astype(\"int32\"),\n",
    "    test_size=0.10,\n",
    "    random_state=0,\n",
    "    shuffle=True,\n",
    ")\n",
    "\n",
    "(training_data, validation_data, training_labels, validation_labels) = train_test_split(\n",
    "    training_data,\n",
    "    training_labels,\n",
    "    test_size=0.10,\n",
    "    random_state=0, \n",
    "    shuffle=True\n",
    ")\n",
    "\n",
    "# vectorize data using TFIDF and transform for PyTorch for scalability\n",
    "word_vectorizer = TfidfVectorizer(\n",
    "    analyzer=\"word\",\n",
    "    ngram_range=(1, 2),\n",
    "    max_features=50000,\n",
    "    max_df=0.5,\n",
    "    use_idf=True,\n",
    "    norm=\"l2\",\n",
    ")\n",
    "training_data = word_vectorizer.fit_transform(training_data)  # transform texts to sparse matrix\n",
    "training_data = training_data.todense()  # convert to dense matrix for Pytorch\n",
    "vocab_size = len(word_vectorizer.vocabulary_)\n",
    "\n",
    "validation_data = word_vectorizer.transform(validation_data)\n",
    "validation_data = validation_data.todense()\n",
    "\n",
    "test_data = word_vectorizer.transform(test_data)\n",
    "test_data = test_data.todense()\n",
    "\n",
    "train_x_tensor = torch.from_numpy(np.array(training_data)).type(torch.FloatTensor)\n",
    "train_y_tensor = torch.from_numpy(np.array(training_labels)).long()\n",
    "\n",
    "validation_x_tensor = torch.from_numpy(np.array(validation_data)).type(torch.FloatTensor)\n",
    "validation_y_tensor = torch.from_numpy(np.array(validation_labels)).long()\n",
    "\n",
    "test_x_tensor = torch.from_numpy(np.array(test_data)).type(torch.FloatTensor)\n",
    "test_y_tensor = torch.from_numpy(np.array(test_labels)).long()\n",
    "print(\"vocab_size =\", vocab_size)"
   ]
  },
  {
   "cell_type": "code",
   "execution_count": 4,
   "metadata": {},
   "outputs": [
    {
     "name": "stdout",
     "output_type": "stream",
     "text": [
      "Training size=810\n",
      "Validation size=90\n",
      "Test size=100\n"
     ]
    }
   ],
   "source": [
    "# Combine data with labels\n",
    "train_dataset = TensorDataset(train_x_tensor, train_y_tensor)\n",
    "validation_dataset = TensorDataset(validation_x_tensor, validation_y_tensor)\n",
    "test_dataset = TensorDataset(test_x_tensor, test_y_tensor)\n",
    "\n",
    "trainloader = DataLoader(train_dataset, batch_size=10, shuffle=True)\n",
    "validationloader = DataLoader(validation_dataset, batch_size=len(validation_data), shuffle=False)\n",
    "testloader = DataLoader(test_dataset, batch_size=len(test_data), shuffle=False)\n",
    "\n",
    "print(f\"Training size={len(train_dataset)}\")\n",
    "print(f\"Validation size={len(validation_dataset)}\")\n",
    "print(f\"Test size={len(test_dataset)}\")"
   ]
  },
  {
   "cell_type": "code",
   "execution_count": 5,
   "metadata": {},
   "outputs": [],
   "source": [
    "classes = {\"negative\": 0, \"positive\": 1} # The classes of the labeled dataset"
   ]
  },
  {
   "cell_type": "code",
   "execution_count": 6,
   "metadata": {
    "scrolled": true
   },
   "outputs": [
    {
     "name": "stdout",
     "output_type": "stream",
     "text": [
      "Epoch 15 [81/81] - Loss: 0.0123163443058729175"
     ]
    },
    {
     "data": {
      "text/plain": [
       "<matplotlib.legend.Legend at 0x7fda9b1d5a20>"
      ]
     },
     "execution_count": 6,
     "metadata": {},
     "output_type": "execute_result"
    },
    {
     "data": {
      "image/png": "[encoded data removed]",
      "text/plain": [
       "<Figure size 432x288 with 2 Axes>"
      ]
     },
     "metadata": {
      "needs_background": "light"
     },
     "output_type": "display_data"
    }
   ],
   "source": [
    "# Use the model defined in ./models/chatbot_model.py\n",
    "network = ChatbotModel(vocab_size=6764, vectorizer=word_vectorizer)\n",
    "\n",
    "optimizer = torch.optim.Adam(network.parameters(), lr=0.0005)\n",
    "loss_function = nn.CrossEntropyLoss()\n",
    "\n",
    "epochs = 15\n",
    "\n",
    "validation_loss = []\n",
    "training_loss = []\n",
    "\n",
    "training_accuracy = []\n",
    "validation_accuracy = []\n",
    "\n",
    "lowest_val_loss = 10000\n",
    "es_patiance = 5 # how many inc. of losses we accept before stopping the learning\n",
    "\n",
    "for epoch in range(epochs):\n",
    "    validation_loss_epoch = 0\n",
    "    training_loss_epoch = 0\n",
    "    training_batches = 0\n",
    "    validation_batches = 0\n",
    "    \n",
    "    training_correct_epoch = 0\n",
    "    training_total_epoch = 0\n",
    "    validation_correct_epoch = 0\n",
    "    validation_total_epoch = 0\n",
    "    \n",
    "    for batch_nr, (data, labels) in enumerate(trainloader):\n",
    "        training_batches += 1\n",
    "        prediction = network(data)\n",
    "        loss = loss_function(prediction, labels)\n",
    "        \n",
    "        training_loss_epoch += loss.item()\n",
    "        \n",
    "        loss.backward()\n",
    "        \n",
    "        optimizer.step()\n",
    "        optimizer.zero_grad()\n",
    "        \n",
    "        # Collect training accuracy statistics\n",
    "        prediction = list(pred.argmax() for pred in prediction)\n",
    "        training_correct_epoch += np.equal(prediction, labels).sum().item()\n",
    "        training_total_epoch += len(labels)\n",
    "        \n",
    "        #Print the epoch, batch, and loss\n",
    "        print(\n",
    "            f'\\rEpoch {epoch+1} [{batch_nr+1}/{len(trainloader)}] - Loss: {loss}',\n",
    "            end=''\n",
    "        )\n",
    "        \n",
    "    for batch_nr, (data, labels) in enumerate(validationloader):\n",
    "        with torch.no_grad():\n",
    "            validation_batches += 1\n",
    "            prediction = network(data)\n",
    "            loss = loss_function(prediction, labels)\n",
    "            validation_loss_epoch += loss.item()\n",
    "            \n",
    "            # Save the model that generalizes the best\n",
    "            if loss.item() < lowest_val_loss:\n",
    "                lowest_val_loss = loss.item()\n",
    "                best_model = copy.deepcopy(network)\n",
    "            \n",
    "            # Collect validation accruacy statistics\n",
    "            prediction = list(pred.argmax() for pred in prediction)\n",
    "            validation_correct_epoch += np.equal(prediction, labels).sum().item()\n",
    "            validation_total_epoch += len(labels)\n",
    "\n",
    "    # Store loss for plot\n",
    "    avr_training_loss = training_loss_epoch/training_batches\n",
    "    avr_validation_loss = validation_loss_epoch/validation_batches\n",
    "    training_loss.append(avr_training_loss)\n",
    "    validation_loss.append(avr_validation_loss)\n",
    "\n",
    "    # Store accuracy for plot\n",
    "    training_accuracy.append(training_correct_epoch / training_total_epoch)\n",
    "    validation_accuracy.append(validation_correct_epoch / validation_total_epoch)\n",
    "\n",
    "\n",
    "fig, (plt_loss, plt_accuracy) = plt.subplots(2, sharex=True)\n",
    "plt_loss.plot(range(1, len(training_loss)+1), training_loss, label=\"Training\")\n",
    "plt_loss.plot(range(1, len(validation_loss)+1), validation_loss, label=\"Validation\")\n",
    "plt_loss.set_xlabel('Epoch')\n",
    "plt_loss.set_ylabel('Loss')\n",
    "plt_loss.legend()\n",
    "\n",
    "plt_accuracy.plot(range(1, len(training_accuracy)+1), training_accuracy, label=\"Training\")\n",
    "plt_accuracy.plot(range(1, len(validation_accuracy)+1), validation_accuracy, label=\"Validation\")\n",
    "plt_accuracy.set_xlabel('Epoch')\n",
    "plt_accuracy.set_ylabel('Accuracy')\n",
    "plt_accuracy.legend()"
   ]
  },
  {
   "cell_type": "code",
   "execution_count": 7,
   "metadata": {},
   "outputs": [
    {
     "name": "stdout",
     "output_type": "stream",
     "text": [
      "The accuracy of the network on the test data is 84.0%. total=100 correct=84\n"
     ]
    },
    {
     "data": {
      "text/plain": [
       "<AxesSubplot:>"
      ]
     },
     "execution_count": 7,
     "metadata": {},
     "output_type": "execute_result"
    },
    {
     "data": {
      "image/png": "[encoded data removed]",
      "text/plain": [
       "<Figure size 432x288 with 2 Axes>"
      ]
     },
     "metadata": {},
     "output_type": "display_data"
    }
   ],
   "source": [
    "network = best_model # use the best model found during validation\n",
    "\n",
    "correct = 0\n",
    "total = 0\n",
    "\n",
    "# True = positive\n",
    "# False = negative\n",
    "TP = 0\n",
    "TN = 0\n",
    "FN = 0\n",
    "FP = 0\n",
    "    \n",
    "# Test accuracy and confusion matrix\n",
    "for batch_nr, (data, labels) in enumerate(testloader):\n",
    "    predictions = network.predict(data)\n",
    "\n",
    "    # Sum all the predictions that were the same as the label\n",
    "    correct += np.equal(predictions, labels).sum().item()\n",
    "    total += len(labels)\n",
    "    \n",
    "    # Collect confusion matrix data\n",
    "    for pred, actual in zip(predictions, labels):\n",
    "        if actual == classes[\"positive\"]:\n",
    "            if pred == classes[\"positive\"]:\n",
    "                TP += 1\n",
    "            else:\n",
    "                FN += 1\n",
    "        else:\n",
    "            if pred == classes[\"negative\"]:\n",
    "                TN += 1\n",
    "            else:\n",
    "                FP += 1\n",
    "        \n",
    "\n",
    "print(f'The accuracy of the network on the test data is {str(100*correct/total)[:4]}%. total={total} correct={correct}')\n",
    "\n",
    "# plot confusion matrix\n",
    "mat = np.array([[TP, FP], [FN, TN]])\n",
    "df_cm = pd.DataFrame(mat, index = [\"Positive\", \"Negative\"], columns=[\"Positive\", \"Negative\"])\n",
    "\n",
    "# x axis = Actual\n",
    "sn.set(font_scale=1.4)\n",
    "sn.heatmap(df_cm, annot=True)"
   ]
  },
  {
   "cell_type": "code",
   "execution_count": 8,
   "metadata": {},
   "outputs": [
    {
     "name": "stdout",
     "output_type": "stream",
     "text": [
      "The input 'jjjjjjj' is negative\n"
     ]
    }
   ],
   "source": [
    "# Let's print a sentence and predict it's category\n",
    "str_input = \"jjjjjjj\"\n",
    "prediction = network.predict_str(str_input)\n",
    "prediction = \"positive\" if prediction == classes[\"positive\"] else \"negative\"\n",
    "print(f\"The input '{str_input}' is {prediction}\")"
   ]
  },
  {
   "cell_type": "code",
   "execution_count": 9,
   "metadata": {},
   "outputs": [],
   "source": [
    "#save_model(network, \"ann-model-amazon\")\n",
    "network.save_model()"
   ]
  }
 ],
 "metadata": {
  "kernelspec": {
   "display_name": "Python 3",
   "language": "python",
   "name": "python3"
  },
  "language_info": {
   "codemirror_mode": {
    "name": "ipython",
    "version": 3
   },
   "file_extension": ".py",
   "mimetype": "text/x-python",
   "name": "python",
   "nbconvert_exporter": "python",
   "pygments_lexer": "ipython3",
   "version": "3.6.12"
  }
 },
 "nbformat": 4,
 "nbformat_minor": 4
}
