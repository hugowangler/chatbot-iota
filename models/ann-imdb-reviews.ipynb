{
 "cells": [
  {
   "cell_type": "code",
   "execution_count": 1,
   "metadata": {},
   "outputs": [],
   "source": [
    "import os\n",
    "import sys\n",
    "\n",
    "import pandas as pd\n",
    "import numpy as np\n",
    "import torch\n",
    "import torch.nn as nn\n",
    "import torch.optim as optim\n",
    "import torch.nn.functional as F\n",
    "from torch.utils.data import TensorDataset, DataLoader\n",
    "import numpy as np\n",
    "from matplotlib import pyplot as plt\n",
    "import pandas as pd\n",
    "from sklearn.model_selection import train_test_split\n",
    "from sklearn.feature_extraction.text import TfidfVectorizer\n",
    "from nltk.corpus import stopwords\n",
    "from nltk import word_tokenize\n",
    "\n",
    "from sklearn.metrics import (\n",
    "    accuracy_score,\n",
    "    confusion_matrix,\n",
    "    precision_score,\n",
    "    recall_score,\n",
    "    classification_report,\n",
    ")\n",
    "\n",
    "# Local module imports\n",
    "sys.path.insert(0, \"..\") # adds parent folder to sys path\n",
    "from models.chatbot_model_imdb import ChatbotModelImdb"
   ]
  },
  {
   "cell_type": "code",
   "execution_count": 2,
   "metadata": {},
   "outputs": [],
   "source": [
    "def preprocess_pandas(data, columns):\n",
    "    df_ = pd.DataFrame(columns=columns)\n",
    "    data[\"Sentence\"] = data[\"Sentence\"].str.lower()\n",
    "    data[\"Sentence\"] = data[\"Sentence\"].replace(\n",
    "        \"[a-zA-Z0-9-_.]+@[a-zA-Z0-9-_.]+\", \"\", regex=True\n",
    "    )  # remove emails\n",
    "    data[\"Sentence\"] = data[\"Sentence\"].replace(\n",
    "        \"((25[0-5]|2[0-4][0-9]|[01]?[0-9][0-9]?)(\\.|$)){4}\", \"\", regex=True\n",
    "    )  # remove IP address\n",
    "    data[\"Sentence\"] = data[\"Sentence\"].str.replace(\n",
    "        \"[^\\w\\s]\", \"\"\n",
    "    )  # remove special characters\n",
    "    data[\"Sentence\"] = data[\"Sentence\"].replace(\"\\d\", \"\", regex=True)  # remove numbers\n",
    "    for index, row in data.iterrows():\n",
    "        word_tokens = word_tokenize(row[\"Sentence\"])\n",
    "        filtered_sent = [w for w in word_tokens if not w in stopwords.words(\"english\")]\n",
    "        print(f\"\\r{index}\", end=\"\")\n",
    "        df_ = df_.append(\n",
    "            {\n",
    "                \"index\": row[\"index\"],\n",
    "                \"Class\": row[\"Class\"],\n",
    "                \"Sentence\": \" \".join(filtered_sent[0:]),\n",
    "            },\n",
    "            ignore_index=True,\n",
    "        )\n",
    "    return data"
   ]
  },
  {
   "cell_type": "code",
   "execution_count": 3,
   "metadata": {},
   "outputs": [],
   "source": [
    "classes = {\"positive\": 1, \"negative\": 0}"
   ]
  },
  {
   "cell_type": "code",
   "execution_count": 4,
   "metadata": {
    "scrolled": false
   },
   "outputs": [
    {
     "name": "stdout",
     "output_type": "stream",
     "text": [
      "9991\n",
      "4992\n",
      "89993\n",
      "1000\n",
      "                                              Sentence  Class  index\n",
      "0    i always wrote this series off as being a comp...      0      0\n",
      "1    st watched    out of dirsteve purcell typical ...      0      1\n",
      "2    this movie was so poorly written and directed ...      0      2\n",
      "3    the most interesting thing about miryang secre...      1      3\n",
      "4    when i first read about berlin am meer i didnt...      0      4\n",
      "..                                                 ...    ...    ...\n",
      "995  this movie is truly amazingover the years i ha...      0    995\n",
      "996  the underground comedy movie is possibly the w...      0    996\n",
      "997  this production was quite a surprise for me i ...      1    997\n",
      "998  sorry but i usually love french thrillers  eg ...      0    998\n",
      "999  thankfully brief mystery about a telephone ope...      0    999\n",
      "\n",
      "[1000 rows x 3 columns]\n",
      "500\n",
      "                                              Sentence  Class  index\n",
      "0    its been about  years since sharon stone award...      0      0\n",
      "1    someone needed to make a car payment this is t...      0      1\n",
      "2    the guidelines state that a comment must conta...      0      2\n",
      "3    this movie is a muddled mishmash of clichés fr...      0      3\n",
      "4    before stan laurel became the smaller half of ...      0      4\n",
      "..                                                 ...    ...    ...\n",
      "495  rainbow brite and the star stealer in my opini...      1    495\n",
      "496  when i saw on the voting panel that some peopl...      0    496\n",
      "497  one of the most magnificent movies ever made t...      1    497\n",
      "498  its sad to view this film now that we know how...      1    498\n",
      "499  britain and france declared war on germany in ...      1    499\n",
      "\n",
      "[500 rows x 3 columns]\n",
      "9000\n",
      "                                               Sentence  Class  index\n",
      "0     i grew up b  watching and loving the thunderbi...      0      0\n",
      "1     when i put this movie in my dvd player and sat...      0      1\n",
      "2     why do people who do not know what a particula...      0      2\n",
      "3     even though i have great interest in biblical ...      0      3\n",
      "4     im a die hard dads army fan and nothing will e...      1      4\n",
      "...                                                 ...    ...    ...\n",
      "8995  i have been searching for the right words to d...      0   8995\n",
      "8996  la furia del hombre lobo forms a completely st...      0   8996\n",
      "8997  kenneth branagh shows off his excellent skill ...      1   8997\n",
      "8998  cooley high is one of my favorite movies ever ...      1   8998\n",
      "8999  first the premise stinkslittle boy likes to dr...      0   8999\n",
      "\n",
      "[9000 rows x 3 columns]\n"
     ]
    }
   ],
   "source": [
    "DATASET_PATH = \"../datasets/imdb-reviews/\"\n",
    "TEST_DATA_PATH = DATASET_PATH + \"Test.csv\"\n",
    "TRAIN_DATA_PATH = DATASET_PATH + \"Train.csv\"\n",
    "VALID_DATA_PATH = DATASET_PATH + \"Valid.csv\"\n",
    "\n",
    "TEST_SIZE = 1000\n",
    "VALID_SIZE = 500\n",
    "TRAIN_SIZE = 9000\n",
    "\n",
    "columns = [\"index\", \"Class\", \"Sentence\"]\n",
    "\n",
    "test_data = pd.read_csv(TEST_DATA_PATH, nrows=TEST_SIZE, delimiter=',', header=None, quotechar='\"')\n",
    "test_data.columns = [\"Sentence\", \"Class\"]\n",
    "test_data[\"index\"] = test_data.index\n",
    "test_data = preprocess_pandas(test_data, columns)\n",
    "\n",
    "print(\"1\")\n",
    "\n",
    "valid_data = pd.read_csv(VALID_DATA_PATH, nrows=VALID_SIZE, delimiter=',', header=None, quotechar='\"')\n",
    "valid_data.columns = [\"Sentence\", \"Class\"]\n",
    "valid_data[\"index\"] = valid_data.index\n",
    "valid_data = preprocess_pandas(valid_data, columns)\n",
    "\n",
    "print(\"2\")\n",
    "\n",
    "train_data = pd.read_csv(TRAIN_DATA_PATH, nrows=TRAIN_SIZE, delimiter=',', header=None, quotechar='\"')\n",
    "train_data.columns = [\"Sentence\", \"Class\"]\n",
    "train_data[\"index\"] = train_data.index\n",
    "train_data = preprocess_pandas(train_data, columns)\n",
    "\n",
    "print(\"3\")\n",
    "\n",
    "\n",
    "print(len(test_data))\n",
    "print(test_data)\n",
    "print(len(valid_data))\n",
    "print(valid_data)\n",
    "print(len(train_data))\n",
    "print(train_data)"
   ]
  },
  {
   "cell_type": "code",
   "execution_count": 5,
   "metadata": {
    "scrolled": false
   },
   "outputs": [],
   "source": [
    "# vectorize data using TFIDF and transform for PyTorch for scalability\n",
    "word_vectorizer = TfidfVectorizer(\n",
    "    analyzer=\"word\",\n",
    "    ngram_range=(1, 2),\n",
    "    max_features=50000,\n",
    "    max_df=0.5,\n",
    "    use_idf=True,\n",
    "    norm=\"l2\",\n",
    ")\n",
    "\n",
    "testing_data = test_data[\"Sentence\"].values.astype(\"U\")\n",
    "testing_labels = test_data[\"Class\"].values.astype(\"int32\")\n",
    "\n",
    "training_data = train_data[\"Sentence\"].values.astype(\"U\")\n",
    "training_labels = train_data[\"Class\"].values.astype(\"int32\")\n",
    "\n",
    "validation_data = valid_data[\"Sentence\"].values.astype(\"U\")\n",
    "validation_labels = valid_data[\"Class\"].values.astype(\"int32\")\n",
    "\n",
    "training_data = word_vectorizer.fit_transform(training_data)  # transform texts to sparse matrix\n",
    "training_data = training_data.todense()  # convert to dense matrix for Pytorch\n",
    "vocab_size = len(word_vectorizer.vocabulary_)\n",
    "\n",
    "validation_data = word_vectorizer.transform(validation_data)\n",
    "validation_data = validation_data.todense()\n",
    "\n",
    "testing_data = word_vectorizer.transform(testing_data)\n",
    "testing_data = testing_data.todense()\n",
    "\n",
    "train_x_tensor = torch.from_numpy(np.array(training_data)).type(torch.FloatTensor)\n",
    "train_y_tensor = torch.from_numpy(np.array(training_labels)).long()\n",
    "\n",
    "validation_x_tensor = torch.from_numpy(np.array(validation_data)).type(torch.FloatTensor)\n",
    "validation_y_tensor = torch.from_numpy(np.array(validation_labels)).long()\n",
    "\n",
    "test_x_tensor = torch.from_numpy(np.array(testing_data)).type(torch.FloatTensor)\n",
    "test_y_tensor = torch.from_numpy(np.array(testing_labels)).long()"
   ]
  },
  {
   "cell_type": "code",
   "execution_count": 6,
   "metadata": {},
   "outputs": [
    {
     "name": "stdout",
     "output_type": "stream",
     "text": [
      "Training size=9000\n",
      "Validation size=500\n",
      "Test size=1000\n"
     ]
    }
   ],
   "source": [
    "# Combine data with labels\n",
    "train_dataset = TensorDataset(train_x_tensor, train_y_tensor)\n",
    "validation_dataset = TensorDataset(validation_x_tensor, validation_y_tensor)\n",
    "test_dataset = TensorDataset(test_x_tensor, test_y_tensor)\n",
    "\n",
    "trainloader = DataLoader(train_dataset, batch_size=100, shuffle=True)\n",
    "validationloader = DataLoader(validation_dataset, batch_size=len(validation_data), shuffle=False)\n",
    "testloader = DataLoader(test_dataset, batch_size=len(test_data), shuffle=False)\n",
    "\n",
    "print(f\"Training size={len(train_dataset)}\")\n",
    "print(f\"Validation size={len(validation_dataset)}\")\n",
    "print(f\"Test size={len(test_dataset)}\")"
   ]
  },
  {
   "cell_type": "code",
   "execution_count": 7,
   "metadata": {},
   "outputs": [
    {
     "name": "stdout",
     "output_type": "stream",
     "text": [
      "Epoch 10 [90/90] - Loss: 0.019441159442067146"
     ]
    },
    {
     "data": {
      "text/plain": [
       "<matplotlib.legend.Legend at 0x7fc651d662e8>"
      ]
     },
     "execution_count": 7,
     "metadata": {},
     "output_type": "execute_result"
    },
    {
     "data": {
      "image/png": "[encoded data removed]",
      "text/plain": [
       "<Figure size 432x288 with 2 Axes>"
      ]
     },
     "metadata": {
      "needs_background": "light"
     },
     "output_type": "display_data"
    }
   ],
   "source": [
    "# Use the model defined in ./models/chatbot_model.py\n",
    "network = ChatbotModelImdb(vocab_size=vocab_size, vectorizer=word_vectorizer)\n",
    "\n",
    "optimizer = torch.optim.Adam(network.parameters(), lr=0.0001, weight_decay=1e-5)\n",
    "loss_function = nn.CrossEntropyLoss()\n",
    "\n",
    "epochs = 10\n",
    "\n",
    "validation_loss = []\n",
    "training_loss = []\n",
    "\n",
    "training_accuracy = []\n",
    "validation_accuracy = []\n",
    "\n",
    "for epoch in range(epochs):\n",
    "    validation_loss_epoch = 0\n",
    "    training_loss_epoch = 0\n",
    "    training_batches = 0\n",
    "    validation_batches = 0\n",
    "    \n",
    "    training_correct_epoch = 0\n",
    "    training_total_epoch = 0\n",
    "    validation_correct_epoch = 0\n",
    "    validation_total_epoch = 0\n",
    "    \n",
    "    for batch_nr, (data, labels) in enumerate(trainloader):\n",
    "        training_batches += 1\n",
    "        prediction = network(data)\n",
    "        loss = loss_function(prediction, labels)\n",
    "        \n",
    "        training_loss_epoch += loss.item()\n",
    "        \n",
    "        loss.backward()\n",
    "        \n",
    "        optimizer.step()\n",
    "        optimizer.zero_grad()\n",
    "        \n",
    "        # Collect training accuracy statistics\n",
    "        prediction = list(pred.argmax() for pred in prediction)\n",
    "        training_correct_epoch += np.equal(prediction, labels).sum().item()\n",
    "        training_total_epoch += len(labels)\n",
    "        \n",
    "        #Print the epoch, batch, and loss\n",
    "        print(\n",
    "            f'\\rEpoch {epoch+1} [{batch_nr+1}/{len(trainloader)}] - Loss: {loss}',\n",
    "            end=''\n",
    "        )\n",
    "        \n",
    "    for batch_nr, (data, labels) in enumerate(validationloader):\n",
    "        with torch.no_grad():\n",
    "            validation_batches += 1\n",
    "            prediction = network(data)\n",
    "            loss = loss_function(prediction, labels)\n",
    "            validation_loss_epoch += loss.item()\n",
    "            \n",
    "            # Collect validation accruacy statistics\n",
    "            prediction = list(pred.argmax() for pred in prediction)\n",
    "            validation_correct_epoch += np.equal(prediction, labels).sum().item()\n",
    "            validation_total_epoch += len(labels)\n",
    "        \n",
    "    # Store loss for plot\n",
    "    avr_training_loss = training_loss_epoch/training_batches\n",
    "    avr_validation_loss = validation_loss_epoch/validation_batches\n",
    "    training_loss.append(avr_training_loss)\n",
    "    validation_loss.append(avr_validation_loss)\n",
    "    \n",
    "    # Store accuracy for plot\n",
    "    training_accuracy.append(training_correct_epoch / training_total_epoch)\n",
    "    validation_accuracy.append(validation_correct_epoch / validation_total_epoch)\n",
    "\n",
    "\n",
    "fig, (plt_loss, plt_accuracy) = plt.subplots(2, sharex=True)\n",
    "plt_loss.plot(range(1, len(training_loss)+1), training_loss, label=\"Training\")\n",
    "plt_loss.plot(range(1, len(validation_loss)+1), validation_loss, label=\"Validation\")\n",
    "plt_loss.set_xlabel('Epoch')\n",
    "plt_loss.set_ylabel('Loss')\n",
    "plt_loss.legend()\n",
    "\n",
    "plt_accuracy.plot(range(1, len(training_accuracy)+1), training_accuracy, label=\"Training\")\n",
    "plt_accuracy.plot(range(1, len(validation_accuracy)+1), validation_accuracy, label=\"Validation\")\n",
    "plt_accuracy.set_xlabel('Epoch')\n",
    "plt_accuracy.set_ylabel('Accuracy')\n",
    "plt_accuracy.legend()"
   ]
  },
  {
   "cell_type": "code",
   "execution_count": 8,
   "metadata": {},
   "outputs": [
    {
     "name": "stdout",
     "output_type": "stream",
     "text": [
      "The accuracy of the network on the test data is 89.8%. total=1000 correct=898\n"
     ]
    }
   ],
   "source": [
    "correct = 0\n",
    "total = 0\n",
    "\n",
    "# Test accuracy\n",
    "for batch_nr, (data, labels) in enumerate(testloader):\n",
    "    predictions = network.predict(data)\n",
    "\n",
    "    # Sum all the predictions that were the same as the label\n",
    "    correct += np.equal(predictions, labels).sum().item()\n",
    "    total += len(labels)\n",
    "\n",
    "print(f'The accuracy of the network on the test data is {str(100*correct/total)[:4]}%. total={total} correct={correct}')"
   ]
  },
  {
   "cell_type": "code",
   "execution_count": 9,
   "metadata": {},
   "outputs": [
    {
     "name": "stdout",
     "output_type": "stream",
     "text": [
      "The input 'i very much like it' is positive\n"
     ]
    }
   ],
   "source": [
    "# Let's print a sentence and predict it's category\n",
    "str_input = \"i very much like it\"\n",
    "#str_input = \"I really enjoyed watching this one. The family romance, the jokes, and the story, all works for me. The plot is good, all matches, quite makes sense. The most if it is the ending, very nice to close the film. Of course you can't demand too much logic for this film as it is a sort of fantasy film along side with maybe sci fi. Yes it is an easy-watching film, not a heavy one. But for a type of an easy-watching film, for me it is a masterpiece, very enjoyable.\"\n",
    "#str_input = \"Drax comedy is still my favourite, Peter having sexual emotion for Gamora and Drax screaming top of his lungs cracked me the most. Drax and Mentis just starting their weird relation.\"\n",
    "#str_input = \"One is almost loath to point a finger at suspension of disbelief when it comes to a movie whose premise is sharks in tornadoes, but whatever level you plan to come in with is almost surely going to fall far short. This movie has more WTF moments in 86 minutes than Lost could pull off in 86 seasons. And everyone gets to play, not just those with a working knowledge of wind shear or the physics that keep a helicopter in the air. If you've played pool, fished, surfed, driven a car in water deeper than two inches, been exposed to gravity, or otherwise in any way have interacted with or gained some understanding of the world around you, this movie has something for you to go 'wha!?!' about.And while you would think that once you had bad special effects, bad editing, and bad sound strung together you'd get at least one Bruce Campbell out of the cast to latch on to. Not so here, as every actor turned in a performance that shows they were more confused than the viewer about what was happening. We could guess it was because they were given the script out of order, but as a viewer of the final product I'm not sure I've seen the scenes in order, they are that disjointed.I've tried very hard to find something that was done well or noteworthy about this movie and the only thing I can come up with is that it is the only movie I have ever seen that has failed on absolutely every level. If you tried to make a movie this bad you would inadvertently get something right purely on accident. And that is its one bright, shining point of light. That it would be almost impossible to make something this terrible ever again.\"\n",
    "#str_input = \"You have probably seen a whole bunch of reviews saying that it's so bad it's good. Well it's so bad it's worse than bad. Do not waste your time with this movie. There is no continuity between scenes, one second it's flooding then in the next scene the streets are dry. The acting is terrible, the special effects are less than special.Lastly, poor Tara, she had some good movies under her belt, but this is the latest in a downward spiral for her acting career. It seems like she has been taking acting lessons from the rest of the cast because her performance is no better than the rest. Please watch something else. I beg you.\"\n",
    "prediction = network.predict_str(str_input)\n",
    "#print(classes)\n",
    "#print(prediction)\n",
    "prediction = \"positive\" if prediction == classes[\"positive\"] else \"negative\"\n",
    "print(f\"The input '{str_input}' is {prediction}\")"
   ]
  }
 ],
 "metadata": {
  "kernelspec": {
   "display_name": "Python 3",
   "language": "python",
   "name": "python3"
  },
  "language_info": {
   "codemirror_mode": {
    "name": "ipython",
    "version": 3
   },
   "file_extension": ".py",
   "mimetype": "text/x-python",
   "name": "python",
   "nbconvert_exporter": "python",
   "pygments_lexer": "ipython3",
   "version": "3.6.12"
  }
 },
 "nbformat": 4,
 "nbformat_minor": 4
}
