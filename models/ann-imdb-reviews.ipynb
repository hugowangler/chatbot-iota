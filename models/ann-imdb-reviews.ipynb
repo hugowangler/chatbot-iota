{
 "cells": [
  {
   "cell_type": "code",
   "execution_count": 1,
   "metadata": {},
   "outputs": [],
   "source": [
    "import os\n",
    "\n",
    "import pandas as pd"
   ]
  },
  {
   "cell_type": "code",
   "execution_count": 2,
   "metadata": {},
   "outputs": [],
   "source": [
    "def preprocess_pandas(data, columns):\n",
    "    df_ = pd.DataFrame(columns=columns)\n",
    "    data[\"Sentence\"] = data[\"Sentence\"].str.lower()\n",
    "    data[\"Sentence\"] = data[\"Sentence\"].replace(\n",
    "        \"[a-zA-Z0-9-_.]+@[a-zA-Z0-9-_.]+\", \"\", regex=True\n",
    "    )  # remove emails\n",
    "    data[\"Sentence\"] = data[\"Sentence\"].replace(\n",
    "        \"((25[0-5]|2[0-4][0-9]|[01]?[0-9][0-9]?)(\\.|$)){4}\", \"\", regex=True\n",
    "    )  # remove IP address\n",
    "    data[\"Sentence\"] = data[\"Sentence\"].str.replace(\n",
    "        \"[^\\w\\s]\", \"\"\n",
    "    )  # remove special characters\n",
    "    data[\"Sentence\"] = data[\"Sentence\"].replace(\"\\d\", \"\", regex=True)  # remove numbers\n",
    "    for index, row in data.iterrows():\n",
    "        word_tokens = word_tokenize(row[\"Sentence\"])\n",
    "        filtered_sent = [w for w in word_tokens if not w in stopwords.words(\"english\")]\n",
    "        df_ = df_.append(\n",
    "            {\n",
    "                \"index\": row[\"index\"],\n",
    "                \"Class\": row[\"Class\"],\n",
    "                \"Sentence\": \" \".join(filtered_sent[0:]),\n",
    "            },\n",
    "            ignore_index=True,\n",
    "        )\n",
    "    return data"
   ]
  },
  {
   "cell_type": "code",
   "execution_count": 3,
   "metadata": {},
   "outputs": [],
   "source": [
    "classes = {\"positive\": 1, \"negative\": 0}"
   ]
  },
  {
   "cell_type": "code",
   "execution_count": 92,
   "metadata": {
    "scrolled": false
   },
   "outputs": [
    {
     "name": "stdout",
     "output_type": "stream",
     "text": [
      "171\n",
      "                                                     0  Class  \\\n",
      "0    Bonny Hunt scores a coup with her directorial ...      1   \n",
      "1    Without a doubt, the best Burt Reynolds film e...      1   \n",
      "2    After being off the air for a while, Columbo r...      1   \n",
      "3    I saw this movie in Santa Monica on Aug. 23 an...      1   \n",
      "4    taking into consideration the Chan films that ...      1   \n",
      "..                                                 ...    ...   \n",
      "166  Having just watched Acacia, I find that I have...      0   \n",
      "167  Horrible waste of talent. Not even worth watch...      0   \n",
      "168  ...Or better yet, watch Fandango if you want t...      0   \n",
      "169  My wife received tickets for our family to att...      0   \n",
      "170  Altioklar's populist approach manifests itself...      0   \n",
      "\n",
      "                                                     1  \n",
      "0                                                  NaN  \n",
      "1                                                  NaN  \n",
      "2                                                  NaN  \n",
      "3                                                  NaN  \n",
      "4                                                  NaN  \n",
      "..                                                 ...  \n",
      "166                                                NaN  \n",
      "167                                                NaN  \n",
      "168                                                NaN  \n",
      "169                                                NaN  \n",
      "170   faulty pace setting. When things need to be t...  \n",
      "\n",
      "[171 rows x 3 columns]\n"
     ]
    },
    {
     "ename": "ValueError",
     "evalue": "Length mismatch: Expected axis has 3 elements, new values have 2 elements",
     "output_type": "error",
     "traceback": [
      "\u001b[0;31m---------------------------------------------------------------------------\u001b[0m",
      "\u001b[0;31mValueError\u001b[0m                                Traceback (most recent call last)",
      "\u001b[0;32m<ipython-input-92-5979095af81f>\u001b[0m in \u001b[0;36m<module>\u001b[0;34m()\u001b[0m\n\u001b[1;32m     41\u001b[0m \u001b[0mtest_data\u001b[0m \u001b[0;34m=\u001b[0m \u001b[0mpd\u001b[0m\u001b[0;34m.\u001b[0m\u001b[0mconcat\u001b[0m\u001b[0;34m(\u001b[0m\u001b[0mtest_data\u001b[0m\u001b[0;34m,\u001b[0m \u001b[0maxis\u001b[0m\u001b[0;34m=\u001b[0m\u001b[0;36m0\u001b[0m\u001b[0;34m,\u001b[0m \u001b[0mignore_index\u001b[0m\u001b[0;34m=\u001b[0m\u001b[0;32mTrue\u001b[0m\u001b[0;34m)\u001b[0m\u001b[0;34m\u001b[0m\u001b[0;34m\u001b[0m\u001b[0m\n\u001b[1;32m     42\u001b[0m \u001b[0mprint\u001b[0m\u001b[0;34m(\u001b[0m\u001b[0mtest_data\u001b[0m\u001b[0;34m)\u001b[0m\u001b[0;34m\u001b[0m\u001b[0;34m\u001b[0m\u001b[0m\n\u001b[0;32m---> 43\u001b[0;31m \u001b[0mtest_data\u001b[0m\u001b[0;34m.\u001b[0m\u001b[0mcolumns\u001b[0m \u001b[0;34m=\u001b[0m \u001b[0;34m[\u001b[0m\u001b[0;34m\"Sentence\"\u001b[0m\u001b[0;34m,\u001b[0m \u001b[0;34m\"Class\"\u001b[0m\u001b[0;34m]\u001b[0m\u001b[0;34m\u001b[0m\u001b[0;34m\u001b[0m\u001b[0m\n\u001b[0m\u001b[1;32m     44\u001b[0m \u001b[0;34m\u001b[0m\u001b[0m\n\u001b[1;32m     45\u001b[0m \u001b[0;31m#test_data = pd.concat(test_data)\u001b[0m\u001b[0;34m\u001b[0m\u001b[0;34m\u001b[0m\u001b[0;34m\u001b[0m\u001b[0m\n",
      "\u001b[0;32m/home/hugo/miniconda3/envs/chatbot/lib/python3.6/site-packages/pandas/core/generic.py\u001b[0m in \u001b[0;36m__setattr__\u001b[0;34m(self, name, value)\u001b[0m\n\u001b[1;32m   5150\u001b[0m         \u001b[0;32mtry\u001b[0m\u001b[0;34m:\u001b[0m\u001b[0;34m\u001b[0m\u001b[0;34m\u001b[0m\u001b[0m\n\u001b[1;32m   5151\u001b[0m             \u001b[0mobject\u001b[0m\u001b[0;34m.\u001b[0m\u001b[0m__getattribute__\u001b[0m\u001b[0;34m(\u001b[0m\u001b[0mself\u001b[0m\u001b[0;34m,\u001b[0m \u001b[0mname\u001b[0m\u001b[0;34m)\u001b[0m\u001b[0;34m\u001b[0m\u001b[0;34m\u001b[0m\u001b[0m\n\u001b[0;32m-> 5152\u001b[0;31m             \u001b[0;32mreturn\u001b[0m \u001b[0mobject\u001b[0m\u001b[0;34m.\u001b[0m\u001b[0m__setattr__\u001b[0m\u001b[0;34m(\u001b[0m\u001b[0mself\u001b[0m\u001b[0;34m,\u001b[0m \u001b[0mname\u001b[0m\u001b[0;34m,\u001b[0m \u001b[0mvalue\u001b[0m\u001b[0;34m)\u001b[0m\u001b[0;34m\u001b[0m\u001b[0;34m\u001b[0m\u001b[0m\n\u001b[0m\u001b[1;32m   5153\u001b[0m         \u001b[0;32mexcept\u001b[0m \u001b[0mAttributeError\u001b[0m\u001b[0;34m:\u001b[0m\u001b[0;34m\u001b[0m\u001b[0;34m\u001b[0m\u001b[0m\n\u001b[1;32m   5154\u001b[0m             \u001b[0;32mpass\u001b[0m\u001b[0;34m\u001b[0m\u001b[0;34m\u001b[0m\u001b[0m\n",
      "\u001b[0;32mpandas/_libs/properties.pyx\u001b[0m in \u001b[0;36mpandas._libs.properties.AxisProperty.__set__\u001b[0;34m()\u001b[0m\n",
      "\u001b[0;32m/home/hugo/miniconda3/envs/chatbot/lib/python3.6/site-packages/pandas/core/generic.py\u001b[0m in \u001b[0;36m_set_axis\u001b[0;34m(self, axis, labels)\u001b[0m\n\u001b[1;32m    562\u001b[0m     \u001b[0;32mdef\u001b[0m \u001b[0m_set_axis\u001b[0m\u001b[0;34m(\u001b[0m\u001b[0mself\u001b[0m\u001b[0;34m,\u001b[0m \u001b[0maxis\u001b[0m\u001b[0;34m:\u001b[0m \u001b[0mint\u001b[0m\u001b[0;34m,\u001b[0m \u001b[0mlabels\u001b[0m\u001b[0;34m:\u001b[0m \u001b[0mIndex\u001b[0m\u001b[0;34m)\u001b[0m \u001b[0;34m->\u001b[0m \u001b[0;32mNone\u001b[0m\u001b[0;34m:\u001b[0m\u001b[0;34m\u001b[0m\u001b[0;34m\u001b[0m\u001b[0m\n\u001b[1;32m    563\u001b[0m         \u001b[0mlabels\u001b[0m \u001b[0;34m=\u001b[0m \u001b[0mensure_index\u001b[0m\u001b[0;34m(\u001b[0m\u001b[0mlabels\u001b[0m\u001b[0;34m)\u001b[0m\u001b[0;34m\u001b[0m\u001b[0;34m\u001b[0m\u001b[0m\n\u001b[0;32m--> 564\u001b[0;31m         \u001b[0mself\u001b[0m\u001b[0;34m.\u001b[0m\u001b[0m_mgr\u001b[0m\u001b[0;34m.\u001b[0m\u001b[0mset_axis\u001b[0m\u001b[0;34m(\u001b[0m\u001b[0maxis\u001b[0m\u001b[0;34m,\u001b[0m \u001b[0mlabels\u001b[0m\u001b[0;34m)\u001b[0m\u001b[0;34m\u001b[0m\u001b[0;34m\u001b[0m\u001b[0m\n\u001b[0m\u001b[1;32m    565\u001b[0m         \u001b[0mself\u001b[0m\u001b[0;34m.\u001b[0m\u001b[0m_clear_item_cache\u001b[0m\u001b[0;34m(\u001b[0m\u001b[0;34m)\u001b[0m\u001b[0;34m\u001b[0m\u001b[0;34m\u001b[0m\u001b[0m\n\u001b[1;32m    566\u001b[0m \u001b[0;34m\u001b[0m\u001b[0m\n",
      "\u001b[0;32m/home/hugo/miniconda3/envs/chatbot/lib/python3.6/site-packages/pandas/core/internals/managers.py\u001b[0m in \u001b[0;36mset_axis\u001b[0;34m(self, axis, new_labels)\u001b[0m\n\u001b[1;32m    225\u001b[0m         \u001b[0;32mif\u001b[0m \u001b[0mnew_len\u001b[0m \u001b[0;34m!=\u001b[0m \u001b[0mold_len\u001b[0m\u001b[0;34m:\u001b[0m\u001b[0;34m\u001b[0m\u001b[0;34m\u001b[0m\u001b[0m\n\u001b[1;32m    226\u001b[0m             raise ValueError(\n\u001b[0;32m--> 227\u001b[0;31m                 \u001b[0;34mf\"Length mismatch: Expected axis has {old_len} elements, new \"\u001b[0m\u001b[0;34m\u001b[0m\u001b[0;34m\u001b[0m\u001b[0m\n\u001b[0m\u001b[1;32m    228\u001b[0m                 \u001b[0;34mf\"values have {new_len} elements\"\u001b[0m\u001b[0;34m\u001b[0m\u001b[0;34m\u001b[0m\u001b[0m\n\u001b[1;32m    229\u001b[0m             )\n",
      "\u001b[0;31mValueError\u001b[0m: Length mismatch: Expected axis has 3 elements, new values have 2 elements"
     ]
    }
   ],
   "source": [
    "DATASET_PATH = \"../datasets/aclImdb/\"\n",
    "POS_TEST_PATH = DATASET_PATH + \"test/pos/\"\n",
    "NEG_TEST_PATH = DATASET_PATH + \"test/neg/\"\n",
    "\n",
    "# Dataset sizes\n",
    "DATASET_SIZE = 10000\n",
    "VALIDATION_DATASET_SIZE = int(DATASET_SIZE * 0.2)\n",
    "TEST_DATASET_SIZE = int(DATASET_SIZE * 0.3)\n",
    "\n",
    "test_data = []\n",
    "\n",
    "# get all positive reviews in test dataset\n",
    "\n",
    "samples = 0\n",
    "for pos_review_filename in os.listdir(POS_TEST_PATH):\n",
    "    samples += 1\n",
    "    #data = pd.read_csv(POS_TEST_PATH + pos_review_filename, sep=\"%\", header=None).values[0][0]\n",
    "    #test_data = test_data.append(pd.DataFrame([[data, classes[\"positive\"]]], columns=[\"Sentence\", \"Class\"]))\n",
    "    test_data.append(pd.read_csv(POS_TEST_PATH + pos_review_filename, sep=\"%\", header=None).assign(Class=classes[\"positive\"]))\n",
    "    if samples == 50:\n",
    "        break\n",
    "    if samples == TEST_DATASET_SIZE / 2:\n",
    "        break\n",
    "\n",
    "# get all negative review in the test dataset\n",
    "samples = 0\n",
    "for neg_review_filename in os.listdir(NEG_TEST_PATH):\n",
    "    samples += 1\n",
    "    #data = pd.read_csv(NEG_TEST_PATH + neg_review_filename, sep=\"%\", header=None).values[0][0]\n",
    "    #test_data = test_data.append(pd.DataFrame([[data, classes[\"negative\"]]], columns=[\"Sentence\", \"Class\"]))\n",
    "    test_data.append(pd.read_csv(NEG_TEST_PATH + neg_review_filename, sep=\"%\", header=None).assign(Class=classes[\"negative\"]))\n",
    "    \n",
    "    if samples == 121:\n",
    "        #print(neg_review_filename)\n",
    "        #print(pd.read_csv(NEG_TEST_PATH + neg_review_filename, sep=\"%\", header=None))\n",
    "        break\n",
    "    if samples == TEST_DATASET_SIZE / 2:\n",
    "        break\n",
    "print(len(test_data))\n",
    "    \n",
    "test_data = pd.concat(test_data, axis=0, ignore_index=True)\n",
    "print(test_data)\n",
    "test_data.columns = [\"Sentence\", \"Class\"]\n",
    "\n",
    "#test_data = pd.concat(test_data)\n",
    "#test_data.columns = [\"Sentence\", \"Class\"]\n",
    "#test_data[\"Class\"] = 1\n",
    "#print(test_data)"
   ]
  },
  {
   "cell_type": "code",
   "execution_count": 5,
   "metadata": {},
   "outputs": [
    {
     "name": "stdout",
     "output_type": "stream",
     "text": [
      "3000\n",
      "                                             Sentence Class\n",
      "0   Bonny Hunt scores a coup with her directorial ...     1\n",
      "0   Without a doubt, the best Burt Reynolds film e...     1\n",
      "0   After being off the air for a while, Columbo r...     1\n",
      "0   I saw this movie in Santa Monica on Aug. 23 an...     1\n",
      "0   taking into consideration the Chan films that ...     1\n",
      "..                                                ...   ...\n",
      "0   I couldn't even...I mean...look....okay...<br ...     0\n",
      "0   What could be expected from any Adam Sandler-p...     0\n",
      "0   Awful! Awful! Awful! Drab, unimaginative, pred...     0\n",
      "0   Largely forgettable monster film from the 50s ...     0\n",
      "0   Just ONCE, I would like to see Koontz's work g...     0\n",
      "\n",
      "[3000 rows x 2 columns]\n"
     ]
    }
   ],
   "source": [
    "print(len(test_data))\n",
    "print(test_data)"
   ]
  }
 ],
 "metadata": {
  "kernelspec": {
   "display_name": "Python 3",
   "language": "python",
   "name": "python3"
  },
  "language_info": {
   "codemirror_mode": {
    "name": "ipython",
    "version": 3
   },
   "file_extension": ".py",
   "mimetype": "text/x-python",
   "name": "python",
   "nbconvert_exporter": "python",
   "pygments_lexer": "ipython3",
   "version": "3.6.12"
  }
 },
 "nbformat": 4,
 "nbformat_minor": 4
}
